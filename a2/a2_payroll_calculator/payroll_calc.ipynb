{
 "cells": [
  {
   "cell_type": "code",
   "execution_count": 1,
   "id": "fbf8256e",
   "metadata": {},
   "outputs": [],
   "source": [
    "def get_requirements():\n",
    "    print(\"\\n Payroll Calculator\")\n",
    "    print(\"\\nDeveloper: Carson Darrow\")\n",
    "    print('''1. must use float data type for user input.\n",
    "2. Overtime rate is 1.5 times hourly rate (hours over 40).\n",
    "3. Holiday rate is 2.0 times hourly.\n",
    "4. Must format with dollar sign and round to 2 decimal places\n",
    "5. Create three functions''')"
   ]
  },
  {
   "cell_type": "code",
   "execution_count": 2,
   "id": "bbd1386c",
   "metadata": {},
   "outputs": [],
   "source": [
    "#all calculations\n",
    "def calculate_payroll(week, holiday, pay):\n",
    "    week = int(week)\n",
    "    count = 0\n",
    "    pay1 = pay\n",
    "    overtime = pay * 1.5\n",
    "    holiday_pay = pay * 2.0\n",
    "    # calculated overtime hours using modulous\n",
    "    overtime_hours = week%40\n",
    "    overtime_total = overtime * overtime_hours\n",
    "    holiday_total = holiday * holiday_pay\n",
    "    #iterating over individual hours 40 times\n",
    "    for week in range(39):\n",
    "        pay += pay1\n",
    "        count+=1\n",
    "    #total in arithmatic\n",
    "    total = pay + overtime_total + holiday_total\n",
    "    print()\n",
    "    #print statement with all values\n",
    "    print(f'''Base:\\t\\t ${pay:.2f}\n",
    "Overtime:\\t ${overtime_total:.2f}\n",
    "Holiday:\\t ${holiday_total:.2f}\n",
    "Gross:\\t\\t ${total:.2f}''')"
   ]
  },
  {
   "cell_type": "code",
   "execution_count": 3,
   "id": "694fc557",
   "metadata": {},
   "outputs": [],
   "source": [
    "def main():\n",
    "    get_requirements()\n",
    "    print()\n",
    "    weeklyhrs = float(input('Enter hours worked: '))\n",
    "    holidayhrs = float(input('Enter holiday hours worked: '))\n",
    "    payhr = float(input('Enter hourly pay rate: '))\n",
    "    calculate_payroll(weeklyhrs, holidayhrs, payhr)\n",
    "    \n",
    "if __name__ == \"__main__\":\n",
    "    pass"
   ]
  },
  {
   "cell_type": "code",
   "execution_count": 4,
   "id": "44dfa89e",
   "metadata": {},
   "outputs": [
    {
     "name": "stdout",
     "output_type": "stream",
     "text": [
      "\n",
      " Payroll Calculator\n",
      "\n",
      "Developer: Carson Darrow\n",
      "1. must use float data type for user input.\n",
      "2. Overtime rate is 1.5 times hourly rate (hours over 40).\n",
      "3. Holiday rate is 2.0 times hourly.\n",
      "4. Must format with dollar sign and round to 2 decimal places\n",
      "5. Create three functions\n",
      "\n",
      "Enter hours worked: 40\n",
      "Enter holiday hours worked: 10\n",
      "Enter hourly pay rate: 10\n",
      "\n",
      "Base:\t\t $400.00\n",
      "Overtime:\t $0.00\n",
      "Holiday:\t $200.00\n",
      "Gross:\t\t $600.00\n"
     ]
    }
   ],
   "source": [
    "import functions as f\n",
    "\n",
    "f.main()"
   ]
  },
  {
   "cell_type": "code",
   "execution_count": 5,
   "id": "fa7a9cf7",
   "metadata": {},
   "outputs": [
    {
     "name": "stdout",
     "output_type": "stream",
     "text": [
      "\n",
      " Payroll Calculator\n",
      "\n",
      "Developer: Carson Darrow\n",
      "1. must use float data type for user input.\n",
      "2. Overtime rate is 1.5 times hourly rate (hours over 40).\n",
      "3. Holiday rate is 2.0 times hourly.\n",
      "4. Must format with dollar sign and round to 2 decimal places\n",
      "5. Create three functions\n",
      "\n",
      "Enter hours worked: 50\n",
      "Enter holiday hours worked: 10\n",
      "Enter hourly pay rate: 10\n",
      "\n",
      "Base:\t\t $400.00\n",
      "Overtime:\t $150.00\n",
      "Holiday:\t $200.00\n",
      "Gross:\t\t $750.00\n"
     ]
    }
   ],
   "source": [
    "import functions as f\n",
    "\n",
    "f.main()"
   ]
  },
  {
   "cell_type": "code",
   "execution_count": null,
   "id": "67648888",
   "metadata": {},
   "outputs": [],
   "source": []
  }
 ],
 "metadata": {
  "kernelspec": {
   "display_name": "Python 3 (ipykernel)",
   "language": "python",
   "name": "python3"
  },
  "language_info": {
   "codemirror_mode": {
    "name": "ipython",
    "version": 3
   },
   "file_extension": ".py",
   "mimetype": "text/x-python",
   "name": "python",
   "nbconvert_exporter": "python",
   "pygments_lexer": "ipython3",
   "version": "3.9.12"
  }
 },
 "nbformat": 4,
 "nbformat_minor": 5
}
