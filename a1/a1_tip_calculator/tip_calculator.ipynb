{
 "cells": [
  {
   "cell_type": "markdown",
   "id": "e933bd79",
   "metadata": {},
   "source": [
    "### Tip Calculator\n",
    "\n",
    "**Developer:** Carson Darrow\n",
    "\n",
    "**Course:** lis4369\n",
    "\n",
    "**Semester:** Fall 2022\n",
    "\n",
    "**Program Requirements:**\n",
    "\n",
    "    1. Must use float data type or user input except \"Party Number\"\n",
    "    2. Must round calculations to two decimal places\n",
    "    3. Must format currency with dollar sign, and two decimal places.\n",
    "    \n",
    "    \n",
    "    "
   ]
  },
  {
   "cell_type": "code",
   "execution_count": 4,
   "id": "07f5eda9",
   "metadata": {},
   "outputs": [
    {
     "name": "stdout",
     "output_type": "stream",
     "text": [
      "\n",
      "User Input:\n",
      "Cost of meal: 100\n",
      "Tax percent: 5\n",
      "Tip percent: 15\n",
      "Party number:3\n"
     ]
    }
   ],
   "source": [
    "print(\"\\nUser Input:\")\n",
    "meal_cost= float(input(\"Cost of meal: \"))\n",
    "tax_percent= float(input(\"Tax percent: \"))\n",
    "tip_percent= float(input(\"Tip percent: \"))    \n",
    "people_num= int(input(\"Party number:\"))"
   ]
  },
  {
   "cell_type": "code",
   "execution_count": 5,
   "id": "b6107f40",
   "metadata": {},
   "outputs": [],
   "source": [
    "#calculate tax tip and total number\n",
    "tax_amount= round(meal_cost * (tax_percent / 100), 2)\n",
    "due_amount= round(meal_cost + tax_amount, 2)\n",
    "tip_amount= round((due_amount) * (tip_percent / 100),\n",
    " 2)\n",
    "total= round(meal_cost + tax_amount + tip_amount, 2)\n",
    "split= round(total/people_num, 2)"
   ]
  },
  {
   "cell_type": "code",
   "execution_count": 6,
   "id": "651aca96",
   "metadata": {},
   "outputs": [
    {
     "name": "stdout",
     "output_type": "stream",
     "text": [
      "\n",
      "Program Output:\n",
      "Subtotal:\t $100.00\n",
      "Tax:\t\t $5.00\n",
      "Amount Due:\t $105.00\n",
      "Gratuity:\t $15.75\n",
      "Total:\t\t $120.75\n",
      "Split(3):\t $40.25\n"
     ]
    }
   ],
   "source": [
    "print(\"\\nProgram Output:\")\n",
    "print(\"Subtotal:\\t\", \"${0:,.2f}\".format(meal_cost))\n",
    "print(\"Tax:\\t\\t\", \"${0:,.2f}\".format(tax_amount))\n",
    "print(\"Amount Due:\\t\", \"${0:,.2f}\".format(due_amount))\n",
    "print(\"Gratuity:\\t\", \"${0:,.2f}\".format(tip_amount))\n",
    "print(\"Total:\\t\\t\", \"${0:,.2f}\".format(total))\n",
    "print(\"Split\" + \"(\" + str(people_num) + \"):\\t\", \"${0:,.2f}\".format(split))"
   ]
  },
  {
   "cell_type": "code",
   "execution_count": null,
   "id": "5580bd7d",
   "metadata": {},
   "outputs": [],
   "source": []
  }
 ],
 "metadata": {
  "kernelspec": {
   "display_name": "Python 3 (ipykernel)",
   "language": "python",
   "name": "python3"
  },
  "language_info": {
   "codemirror_mode": {
    "name": "ipython",
    "version": 3
   },
   "file_extension": ".py",
   "mimetype": "text/x-python",
   "name": "python",
   "nbconvert_exporter": "python",
   "pygments_lexer": "ipython3",
   "version": "3.9.12"
  }
 },
 "nbformat": 4,
 "nbformat_minor": 5
}
