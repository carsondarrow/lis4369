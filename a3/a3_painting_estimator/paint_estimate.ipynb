{
 "cells": [
  {
   "cell_type": "markdown",
   "id": "22a6b3a3-e68d-439a-9601-a5a4e30d3b3a",
   "metadata": {},
   "source": [
    "### Paint Estimator\n",
    "\n",
    "# Developer: Carson Darrow\n",
    "\n",
    "# Course: LIS 4369\n",
    "\n",
    "# Fall 2022\n",
    "\n",
    "**Program Requirements:**\n",
    "\n",
    "    1. Calc home interior cost (without primer)\n",
    "    2. Must use float data types.\n",
    "    3. Must use SQFT_PER_GALLON constant.\n",
    "    4. Must use iteration structure.\n",
    "    5. Format, right align, and round to two decimal places.\n",
    "    6. Create five functions\n",
    "        a. main()\n",
    "        b. get_requirements()\n",
    "        c. estimate_painting_cost()\n",
    "        d. print_painting_estimate()\n",
    "        e. print_painting_percentage()"
   ]
  },
  {
   "cell_type": "code",
   "execution_count": 1,
   "id": "ba4c83af-e380-44c0-ae0d-a3e6e7f44730",
   "metadata": {},
   "outputs": [],
   "source": [
    "SQFT_PER_GALLON = 350.00"
   ]
  },
  {
   "cell_type": "code",
   "execution_count": 2,
   "id": "d180efbe-48ff-4785-afd4-aaaaccb06d7d",
   "metadata": {},
   "outputs": [],
   "source": [
    "def estimate_painting_cost(inter, ppg, sq_rate):\n",
    "    number_of_gallons = inter / SQFT_PER_GALLON\n",
    "    paint_cost= number_of_gallons * ppg \n",
    "    tot_labor = sq_rate * inter\n",
    "    total_fee = tot_labor + paint_cost\n",
    "    return number_of_gallons, paint_cost, tot_labor, total_fee"
   ]
  },
  {
   "cell_type": "code",
   "execution_count": 3,
   "id": "b92f5f7b-a9d4-41d5-bea1-7f5705877c78",
   "metadata": {},
   "outputs": [],
   "source": [
    "def print_painting_estimate(a, b, e):\n",
    "    print('Number of Gallons:{0:>13,.2f}'.format(a))\n",
    "    print('Paint per Gallon:{0:>5}{1:>9,.2f}'.format('$',e))\n",
    "    print('Labor per Sqft:{0:>7}{1:>9.2f}'.format('$',b))"
   ]
  },
  {
   "cell_type": "code",
   "execution_count": 4,
   "id": "3d39a9e5-de95-47ab-bd94-f2b1b1a270d0",
   "metadata": {},
   "outputs": [],
   "source": [
    "def print_painting_percentage(pc, labor, total):\n",
    "    paint_percent = pc/total\n",
    "    labor_percent = labor/total\n",
    "    total_percent = total/total\n",
    "    print('Cost\\t\\tAmount\\t\\tPercentage')\n",
    "    print('Paint:\\t${0:>15,.2f}{1:>15.2%}'.format(pc, paint_percent))\n",
    "    print('Labor:\\t${0:>15,.2f}{1:>15.2%}'.format(labor, labor_percent))\n",
    "    print('Total:\\t${0:>15,.2f}{1:>15.2%}'.format(total, total_percent))"
   ]
  },
  {
   "cell_type": "code",
   "execution_count": 5,
   "id": "f489310a-c76b-49b9-a924-6ce4af74a661",
   "metadata": {},
   "outputs": [],
   "source": [
    "def main():\n",
    "    \n",
    "    repeat = 'y'\n",
    "    while repeat.lower() =='y':\n",
    "        print()\n",
    "        total_interior = float(input('Enter total interior sq ft: '))\n",
    "        ppg_paint = float(input('Enter price per gallon of paint: '))\n",
    "        paint_hr_rate = float(input('Enter hourly painting rate per sq ft: '))\n",
    "        print()\n",
    "        if repeat.lower() == 'y':\n",
    "            n, p, tl, tt = estimate_painting_cost(total_interior, ppg_paint, paint_hr_rate)\n",
    "            print('Item\\t\\t\\tAmount ')\n",
    "            print('Total Sqft:{0:>20,.2f}'.format(total_interior))\n",
    "            print('Sqft per Gallon:{0:>15,.2f}'.format(SQFT_PER_GALLON))\n",
    "            print_painting_estimate(n, paint_hr_rate, ppg_paint)\n",
    "            print()\n",
    "            print_painting_percentage(p, tl, tt)\n",
    "            repeat = input('would you like to repeat (y/n): ')\n",
    "        else:\n",
    "            break\n",
    "    print('Goodbye')\n",
    "\n",
    "\n",
    "if __name__ == \"__main__\":\n",
    "    pass"
   ]
  },
  {
   "cell_type": "code",
   "execution_count": 6,
   "id": "0d9ea212-a912-473c-9142-d1003918952a",
   "metadata": {},
   "outputs": [
    {
     "name": "stdout",
     "output_type": "stream",
     "text": [
      "\n"
     ]
    },
    {
     "name": "stdin",
     "output_type": "stream",
     "text": [
      "Enter total interior sq ft:  2500\n",
      "Enter price per gallon of paint:  30\n",
      "Enter hourly painting rate per sq ft:  2\n"
     ]
    },
    {
     "name": "stdout",
     "output_type": "stream",
     "text": [
      "\n",
      "Item\t\t\tAmount \n",
      "Total Sqft:            2,500.00\n",
      "Sqft per Gallon:         350.00\n",
      "Number of Gallons:         7.14\n",
      "Paint per Gallon:    $    30.00\n",
      "Labor per Sqft:      $     2.00\n",
      "\n",
      "Cost\t\tAmount\t\tPercentage\n",
      "Paint:\t$         214.29          4.11%\n",
      "Labor:\t$       5,000.00         95.89%\n",
      "Total:\t$       5,214.29        100.00%\n"
     ]
    },
    {
     "name": "stdin",
     "output_type": "stream",
     "text": [
      "would you like to repeat (y/n):  n\n"
     ]
    },
    {
     "name": "stdout",
     "output_type": "stream",
     "text": [
      "Goodbye\n"
     ]
    }
   ],
   "source": [
    "import a3_paint as a3\n",
    "\n",
    "a3.main()"
   ]
  },
  {
   "cell_type": "code",
   "execution_count": null,
   "id": "4fcd1919-c743-4d6f-82ba-f2c073472ce0",
   "metadata": {},
   "outputs": [
    {
     "name": "stdout",
     "output_type": "stream",
     "text": [
      "\n",
      "Enter total interior sq ft: 2500\n",
      "Enter price per gallon of paint: 30\n",
      "Enter hourly painting rate per sq ft: 2\n",
      "\n",
      "Item\t\t\tAmount \n",
      "Total Sqft:            2,500.00\n",
      "Sqft per Gallon:         350.00\n",
      "Number of Gallons:         7.14\n",
      "Paint per Gallon:    $    30.00\n",
      "Labor per Sqft:      $     2.00\n",
      "\n",
      "Cost\t\tAmount\t\tPercentage\n",
      "Paint:\t$         214.29          4.11%\n",
      "Labor:\t$       5,000.00         95.89%\n",
      "Total:\t$       5,214.29        100.00%\n",
      "would you like to repeat (y/n): y\n",
      "\n",
      "Enter total interior sq ft: 4000\n",
      "Enter price per gallon of paint: 30\n",
      "Enter hourly painting rate per sq ft: 2\n",
      "\n",
      "Item\t\t\tAmount \n",
      "Total Sqft:            4,000.00\n",
      "Sqft per Gallon:         350.00\n",
      "Number of Gallons:        11.43\n",
      "Paint per Gallon:    $    30.00\n",
      "Labor per Sqft:      $     2.00\n",
      "\n",
      "Cost\t\tAmount\t\tPercentage\n",
      "Paint:\t$         342.86          4.11%\n",
      "Labor:\t$       8,000.00         95.89%\n",
      "Total:\t$       8,342.86        100.00%\n"
     ]
    }
   ],
   "source": [
    "import a3_paint as a3\n",
    "\n",
    "a3.main()"
   ]
  },
  {
   "cell_type": "code",
   "execution_count": null,
   "id": "ee01bc6b",
   "metadata": {},
   "outputs": [],
   "source": []
  }
 ],
 "metadata": {
  "kernelspec": {
   "display_name": "Python 3 (ipykernel)",
   "language": "python",
   "name": "python3"
  },
  "language_info": {
   "codemirror_mode": {
    "name": "ipython",
    "version": 3
   },
   "file_extension": ".py",
   "mimetype": "text/x-python",
   "name": "python",
   "nbconvert_exporter": "python",
   "pygments_lexer": "ipython3",
   "version": "3.9.12"
  }
 },
 "nbformat": 4,
 "nbformat_minor": 5
}
